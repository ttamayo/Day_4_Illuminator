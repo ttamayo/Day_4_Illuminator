{
 "cells": [
  {
   "cell_type": "code",
   "execution_count": null,
   "metadata": {
    "collapsed": false
   },
   "outputs": [],
   "source": [
    "import serial\n",
    "from time import sleep\n",
    "\n",
    "# Establish the connection with the serial port.\n",
    "# name should be the same as the Arduino serial name\n",
    "# Important, cannot have two devices reading the serial port simoustanly\n",
    "# MAC, LINUX -> example: /dev/cu.usbmodem1421\n",
    "# WIN -> example: COM4\n",
    "\n",
    "ser = serial.Serial('COM4', 9600)\n",
    "\n",
    "\n"
   ]
  },
  {
   "cell_type": "code",
   "execution_count": null,
   "metadata": {
    "collapsed": false
   },
   "outputs": [],
   "source": [
    "#turn on the LED number 13\n",
    "sendValue = b'2000'\n",
    "\n",
    "# Convert the decimal number to ASCII then send it to the Arduino\n",
    "ser.write(sendValue)\n",
    "ser.write(b'1000')\n",
    "ser.write(b'2000')\n",
    "ser.write(b'3000')\n",
    "ser.write(b'4000')"
   ]
  },
  {
   "cell_type": "code",
   "execution_count": null,
   "metadata": {
    "collapsed": false
   },
   "outputs": [],
   "source": [
    "#turn off the LED number 13\n",
    "\n",
    "sendValue = b'1255'\n",
    "\n",
    "# Convert the decimal number to ASCII then send it to the Arduino\n",
    "ser.write(sendValue)\n",
    "ser.write(b'3255')\n",
    "ser.write(b'2255')\n",
    "ser.write(b'4255')"
   ]
  },
  {
   "cell_type": "code",
   "execution_count": null,
   "metadata": {
    "collapsed": false
   },
   "outputs": [],
   "source": [
    "a = '1' + str(255)\n",
    "b = str.encode(a)\n",
    "ser.write(b)"
   ]
  },
  {
   "cell_type": "code",
   "execution_count": null,
   "metadata": {
    "collapsed": false
   },
   "outputs": [],
   "source": [
    "# Test sending values from 0 - 255\n",
    "#RGB + UV should only use 4 channels \n",
    "# LEDMap = {r:1,g:2,b:3,uv:4}\n",
    "\n",
    "#up to red\n",
    "for x in range(0,256):\n",
    "    sleep(.1) # Delay for one tenth of a second\n",
    "    strx = '1' + str(x).zfill(3)\n",
    "    byteForm = str.encode(strx)\n",
    "    ser.write(byteForm)\n",
    "#up to yellow\n",
    "for x in range(0,256):\n",
    "    sleep(.1) \n",
    "    strx = '2' + str(x).zfill(3)\n",
    "    byteForm = str.encode(strx)\n",
    "    ser.write(byteForm)\n",
    "\n",
    "#down to green    \n",
    "for x in range(255, -1, -1):\n",
    "    sleep(.1) \n",
    "    strx = '1' + str(x).zfill(3)\n",
    "    byteForm = str.encode(strx)\n",
    "    ser.write(byteForm)\n",
    "#up to teal    \n",
    "for x in range(256):\n",
    "    sleep(.1)\n",
    "    strx = '3' + str(x).zfill(3)\n",
    "    byteForm = str.encode(strx)\n",
    "    ser.write(byteForm)\n",
    "#down to blue\n",
    "for x in range(255, -1, -1):\n",
    "    sleep(.1) \n",
    "    strx = '2' + str(x).zfill(3)\n",
    "    byteForm = str.encode(strx)\n",
    "    ser.write(byteForm)\n",
    "#up to violet\n",
    "for x in range(256):\n",
    "    sleep(.1)\n",
    "    strx = '1' + str(x).zfill(3)\n",
    "    byteForm = str.encode(strx)\n",
    "    ser.write(byteForm)\n",
    "#down to nothing but \"UV\"\n",
    "for x in range(256):\n",
    "    sleep(.1)\n",
    "    strx = '1' + str(255-x).zfill(3)\n",
    "    byteForm = str.encode(strx)\n",
    "    ser.write(byteForm)\n",
    "    strx = '3' + str(255-x).zfill(3)\n",
    "    byteForm = str.encode(strx)\n",
    "    ser.write(byteForm)\n",
    "    strx = '4' + str(x).zfill(3)\n",
    "    byteForm = str.encode(strx)\n",
    "    ser.write(byteForm)\n",
    "\n",
    "#repeat loop with UV    \n",
    "for x in range(0,256):\n",
    "    sleep(.1) # Delay for one tenth of a second\n",
    "    strx = '1' + str(x).zfill(3)\n",
    "    byteForm = str.encode(strx)\n",
    "    ser.write(byteForm)\n",
    "#up to yellow\n",
    "for x in range(0,256):\n",
    "    sleep(.1) \n",
    "    strx = '2' + str(x).zfill(3)\n",
    "    byteForm = str.encode(strx)\n",
    "    ser.write(byteForm)\n",
    "\n",
    "#down to green    \n",
    "for x in range(255, -1, -1):\n",
    "    sleep(.1) \n",
    "    strx = '1' + str(x).zfill(3)\n",
    "    byteForm = str.encode(strx)\n",
    "    ser.write(byteForm)\n",
    "#up to teal    \n",
    "for x in range(256):\n",
    "    sleep(.1)\n",
    "    strx = '3' + str(x).zfill(3)\n",
    "    byteForm = str.encode(strx)\n",
    "    ser.write(byteForm)\n",
    "#down to blue\n",
    "for x in range(255, -1, -1):\n",
    "    sleep(.1) \n",
    "    strx = '2' + str(x).zfill(3)\n",
    "    byteForm = str.encode(strx)\n",
    "    ser.write(byteForm)\n",
    "#up to violet\n",
    "for x in range(256):\n",
    "    sleep(.1)\n",
    "    strx = '1' + str(x).zfill(3)\n",
    "    byteForm = str.encode(strx)\n",
    "    ser.write(byteForm)\n",
    "#fade to UV + white \n",
    "for x in range(256):\n",
    "    sleep(.1)\n",
    "    strx = '2' + str(x).zfill(3)\n",
    "    byteForm = str.encode(strx)\n",
    "    ser.write(byteForm)\n",
    "#to white \n",
    "for x in range(255, -1, -1):\n",
    "    sleep(.1) \n",
    "    strx = '4' + str(x).zfill(3)\n",
    "    byteForm = str.encode(strx)\n",
    "    ser.write(byteForm)\n",
    "#to black\n",
    "for x in range(255, -1, -1):\n",
    "    sleep(.1) \n",
    "    strx = '1' + str(x).zfill(3)\n",
    "    byteForm = str.encode(strx)\n",
    "    ser.write(byteForm)\n",
    "    strx = '2' + str(x).zfill(3)\n",
    "    byteForm = str.encode(strx)\n",
    "    ser.write(byteForm)\n",
    "    strx = '3' + str(x).zfill(3)\n",
    "    byteForm = str.encode(strx)\n",
    "    ser.write(byteForm)\n"
   ]
  },
  {
   "cell_type": "code",
   "execution_count": null,
   "metadata": {
    "collapsed": true
   },
   "outputs": [],
   "source": []
  }
 ],
 "metadata": {
  "anaconda-cloud": {},
  "kernelspec": {
   "display_name": "Python [Root]",
   "language": "python",
   "name": "Python [Root]"
  },
  "language_info": {
   "codemirror_mode": {
    "name": "ipython",
    "version": 3
   },
   "file_extension": ".py",
   "mimetype": "text/x-python",
   "name": "python",
   "nbconvert_exporter": "python",
   "pygments_lexer": "ipython3",
   "version": "3.5.2"
  }
 },
 "nbformat": 4,
 "nbformat_minor": 0
}
